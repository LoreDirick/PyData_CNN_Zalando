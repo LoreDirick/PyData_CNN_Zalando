{
 "cells": [
  {
   "cell_type": "markdown",
   "metadata": {},
   "source": [
    "# Zalando example"
   ]
  },
  {
   "cell_type": "markdown",
   "metadata": {},
   "source": [
    "What does this all cover?\n",
    "**General (dense layers)**\n",
    "- Keras\n",
    "- Multilayer perceptron\n",
    "- activation functions\n",
    "- loss function\n",
    "- matrix notation practice\n",
    "- hyperparameter testing (trial and error)\n",
    "- regularization via early stopping (plot validation vs training accuracy)\n",
    "\n",
    "**CNN**\n",
    "- convolutional neural nets\n",
    "- use of all layers: convolution layers, pooling layers, Fully connected layers\n",
    "- sense of the general layer structure\n",
    "- show pictures in python\n",
    "- Visualizing intermediate convnet outputs \n",
    "- regularization via dropout\n",
    "- make a class prediction\n",
    "\n",
    "**Things I have not done (yet)**\n",
    "- k-fold cross-validation (yet wonder about the added value at this stage, makes comp time longer. Or should make the data smaller)\n",
    "- having jpeg images and actually making them manageable to work with (is this done earlier?)\n",
    "- data augmentation --> need de jpegs to do so\n",
    "- vanishing/exploding gradients\n",
    "- L2 regularization\n",
    "---> sequence processing with convolutional neural networks?\n"
   ]
  },
  {
   "cell_type": "markdown",
   "metadata": {},
   "source": [
    "# 1. Introduction"
   ]
  },
  {
   "cell_type": "markdown",
   "metadata": {},
   "source": [
    "In this example we'll get a sense of just how powerful convolutional neural networks get! This data set, the so-called `Fashion-MNIST` was constructed by a research team at online fashion retailer Zalando.  Fashion-MNIST is a dataset of Zalando's article images—consisting of a training set of 60,000 examples and a test set of 10,000 examples. Each example is a 28x28 grayscale image, associated with a label from 10 classes."
   ]
  },
  {
   "cell_type": "code",
   "execution_count": 59,
   "metadata": {},
   "outputs": [],
   "source": [
    "import numpy as np\n",
    "import tensorflow as tf\n",
    "import os\n",
    "import matplotlib.pyplot as plt\n",
    "import matplotlib.image  as img"
   ]
  },
  {
   "cell_type": "code",
   "execution_count": 60,
   "metadata": {},
   "outputs": [],
   "source": [
    "# %load mnist_reader.py\n",
    "def load_mnist(path, kind='train'):\n",
    "    import os\n",
    "    import gzip\n",
    "    import numpy as np\n",
    "\n",
    "    \"\"\"Load MNIST data from `path`\"\"\"\n",
    "    labels_path = os.path.join(path,\n",
    "                               '%s-labels-idx1-ubyte.gz'\n",
    "                               % kind)\n",
    "    images_path = os.path.join(path,\n",
    "                               '%s-images-idx3-ubyte.gz'\n",
    "                               % kind)\n",
    "\n",
    "    with gzip.open(labels_path, 'rb') as lbpath:\n",
    "        labels = np.frombuffer(lbpath.read(), dtype=np.uint8,\n",
    "                               offset=8)\n",
    "\n",
    "    with gzip.open(images_path, 'rb') as imgpath:\n",
    "        images = np.frombuffer(imgpath.read(), dtype=np.uint8,\n",
    "                               offset=16).reshape(len(labels), 784)\n",
    "\n",
    "    return images, labels"
   ]
  },
  {
   "cell_type": "code",
   "execution_count": 61,
   "metadata": {},
   "outputs": [],
   "source": [
    "train_images, train_labels = load_mnist( path = \"data_zalando/\",kind='train')\n",
    "test_images, test_labels = load_mnist(path = \"data_zalando/\", kind='t10k')"
   ]
  },
  {
   "cell_type": "markdown",
   "metadata": {},
   "source": [
    "This is a fairly big data set. If we keep it as such, runtimes will be longer. Let's take samples of this data set, so we work with 10,000 training instances and 2,500 test instances. Do remember that working with bigger data is generally always better when it comes to training models and getting more accurate results, longer computation times are pretty much the only downside!"
   ]
  },
  {
   "cell_type": "code",
   "execution_count": 62,
   "metadata": {},
   "outputs": [],
   "source": [
    "from random import *\n",
    "import random\n",
    "index_train = range(0,59999)\n",
    "index_test= range(0,9999)\n",
    "\n",
    "random.seed(1109)\n",
    "train_sample = sample(index_train,  10000)\n",
    "test_sample = sample(index_test,  2500)"
   ]
  },
  {
   "cell_type": "markdown",
   "metadata": {},
   "source": [
    "# 2. Grayscale images: looking at the data"
   ]
  },
  {
   "cell_type": "code",
   "execution_count": 63,
   "metadata": {},
   "outputs": [],
   "source": [
    "train_images = train_images[train_sample]\n",
    "train_labels = train_labels[train_sample]\n",
    "test_images = test_images[test_sample]\n",
    "test_labels = test_labels[test_sample]"
   ]
  },
  {
   "cell_type": "markdown",
   "metadata": {},
   "source": [
    "Let's verify the shape of the train_images and test_images"
   ]
  },
  {
   "cell_type": "code",
   "execution_count": 64,
   "metadata": {},
   "outputs": [
    {
     "data": {
      "text/plain": [
       "(10000, 784)"
      ]
     },
     "execution_count": 64,
     "metadata": {},
     "output_type": "execute_result"
    }
   ],
   "source": [
    "np.shape(train_images)"
   ]
  },
  {
   "cell_type": "markdown",
   "metadata": {},
   "source": [
    "entries for the first axis are the rows, the 2nd axis are the columns."
   ]
  },
  {
   "cell_type": "code",
   "execution_count": 65,
   "metadata": {},
   "outputs": [
    {
     "data": {
      "text/plain": [
       "(2500, 784)"
      ]
     },
     "execution_count": 65,
     "metadata": {},
     "output_type": "execute_result"
    }
   ],
   "source": [
    "np.shape(test_images)"
   ]
  },
  {
   "cell_type": "markdown",
   "metadata": {},
   "source": [
    "You can see that now, there are 10,000 observations in the training set, each representing 1 image of 28 x 28 pixels, so each observation contains 784 inputs that range between [0,255] (for a greyscale image, going from white to black). Similarly, there are 2500 images in the test set. Let's have a look at a random observation from `train_images`, let's say, the 4th observation."
   ]
  },
  {
   "cell_type": "code",
   "execution_count": 66,
   "metadata": {},
   "outputs": [
    {
     "data": {
      "text/plain": [
       "array([  0,   0,   0,   0,   2,   1,   0,   1,   1,   1,   0, 146, 173,\n",
       "       138, 141, 146, 173,   0,   0,   3,   1,   1,   1,   0,   0,   0,\n",
       "         0,   0,   0,   0,   0,   0,   1,   3,   3,   0,   0,   0,  50,\n",
       "       231, 244, 248, 249, 249, 232, 148,   0,   0,   0,   0,   3,   1,\n",
       "         0,   0,   0,   0,   0,   0,   0,   0,   2,   0,   0,  12,  97,\n",
       "       173, 213, 190, 228, 255, 245, 245, 186, 202, 176, 103,  39,   0,\n",
       "         0,   2,   0,   0,   0,   0,   0,   0,   0,   0,   0,  13, 177,\n",
       "       191, 203, 199, 197, 181, 186, 219, 225, 203, 169, 191, 198, 207,\n",
       "       196, 203,  65,   0,   0,   0,   0,   0,   0,   0,   0,   0,   0,\n",
       "       168, 205, 186, 183, 183, 186, 199, 215, 198, 172, 217, 213, 190,\n",
       "       180, 181, 183, 194, 196,  43,   0,   0,   0,   0,   0,   0,   0,\n",
       "         0, 113, 209, 184, 188, 188, 188, 188, 183, 185, 207, 148, 186,\n",
       "       181, 184, 186, 186, 184, 181, 192, 201,   0,   0,   0,   0,   0,\n",
       "         0,   0,   0, 185, 201, 191, 190, 190, 189, 189, 187, 197, 195,\n",
       "       160, 192, 184, 185, 181, 185, 184, 190, 185, 208,  23,   0,   0,\n",
       "         0,   0,   0,   0,   3, 219, 194, 195, 192, 190, 190, 188, 188,\n",
       "       191, 202, 187, 189, 181, 186, 187, 179, 183, 180, 179, 207,  61,\n",
       "         0,   0,   0,   0,   0,   0,  52, 213, 192, 198, 196, 193, 191,\n",
       "       189, 187, 186, 189, 185, 189, 185, 186, 202, 181, 186, 179, 183,\n",
       "       205,  99,   0,   0,   0,   0,   0,   0,  88, 201, 188, 213, 220,\n",
       "       191, 193, 190, 189, 188, 187, 187, 188, 188, 185, 185, 179, 198,\n",
       "       217, 191, 189, 137,   0,   0,   0,   0,   0,   0, 179, 216, 224,\n",
       "       247, 208, 201, 201, 194, 192, 189, 189, 188, 189, 187, 191, 191,\n",
       "       189, 185, 237, 226, 208, 177,   0,   0,   0,   0,   0,   0,  51,\n",
       "       154, 208, 175,  63, 212, 202, 197, 193, 191, 189, 188, 189, 190,\n",
       "       190, 190, 202, 133,  87, 220, 140,  27,   0,   0,   0,   0,   0,\n",
       "         0,   0,   0,   0,   0,  59, 211, 191, 201, 191, 191, 189, 188,\n",
       "       189, 188, 187, 181, 196, 162,   0,   0,   0,   0,   0,   0,   0,\n",
       "         0,   0,   0,   0,   0,   0,   0,  82, 211, 192, 202, 191, 192,\n",
       "       190, 188, 189, 188, 190, 186, 188, 169,   0,   0,   0,   0,   0,\n",
       "         0,   0,   0,   0,   0,   0,   0,   3,   0,  82, 201, 191, 201,\n",
       "       191, 192, 190, 188, 189, 188, 191, 191, 188, 164,   0,   0,   0,\n",
       "         0,   0,   0,   0,   0,   0,   0,   0,   0,   5,   0,  70, 195,\n",
       "       190, 194, 189, 191, 190, 188, 189, 189, 185, 191, 188, 157,   0,\n",
       "         0,   0,   0,   0,   0,   0,   0,   0,   0,   0,   0,   5,   0,\n",
       "        63, 195, 187, 191, 190, 191, 190, 189, 189, 190, 185, 187, 191,\n",
       "       151,   0,   0,   0,   0,   0,   0,   0,   0,   0,   0,   0,   0,\n",
       "         5,   0,  66, 198, 186, 192, 190, 191, 190, 189, 189, 189, 189,\n",
       "       178, 195, 140,   0,   0,   0,   0,   0,   0,   0,   0,   0,   0,\n",
       "         0,   0,   5,   0,  61, 195, 186, 192, 190, 191, 190, 189, 189,\n",
       "       190, 188, 178, 194, 135,   0,   0,   0,   0,   0,   0,   0,   0,\n",
       "         0,   0,   0,   0,   4,   0,  68, 192, 186, 193, 191, 191, 191,\n",
       "       190, 189, 190, 188, 184, 191, 141,   0,   0,   0,   0,   0,   0,\n",
       "         0,   0,   0,   0,   0,   0,   5,   0,  74, 193, 185, 194, 192,\n",
       "       192, 191, 190, 189, 189, 188, 185, 191, 151,   0,   0,   1,   0,\n",
       "         0,   0,   0,   0,   0,   0,   0,   0,   5,   0,  74, 192, 187,\n",
       "       194, 192, 192, 193, 192, 189, 187, 188, 185, 192, 165,   0,   0,\n",
       "         1,   0,   0,   0,   0,   0,   0,   0,   0,   0,   5,   0,  74,\n",
       "       193, 189, 193, 192, 193, 193, 191, 189, 187, 188, 185, 191, 175,\n",
       "         0,   0,   1,   0,   0,   0,   0,   0,   0,   0,   0,   0,   5,\n",
       "         0,  76, 197, 189, 190, 191, 193, 190, 188, 189, 190, 187, 184,\n",
       "       190, 185,   0,   0,   1,   0,   0,   0,   0,   0,   0,   0,   0,\n",
       "         0,   5,   0,  77, 197, 189, 189, 191, 192, 190, 190, 189, 189,\n",
       "       187, 185, 188, 197,   0,   0,   2,   0,   0,   0,   0,   0,   0,\n",
       "         0,   0,   0,   5,   0,  75, 196, 186, 185, 186, 187, 186, 186,\n",
       "       186, 186, 181, 184, 185, 172,   0,   0,   3,   0,   0,   0,   0,\n",
       "         0,   0,   0,   0,   0,   6,   0,  88, 204, 191, 206, 205, 205,\n",
       "       205, 205, 205, 205, 204, 202, 190, 184,  14,   0,   4,   0,   0,\n",
       "         0,   0,   0,   0,   0,   0,   0,   4,   0,  63, 175, 138, 140,\n",
       "       140, 141, 137, 136, 136, 136, 132, 130, 132, 148,   4,   0,   2,\n",
       "         0,   0,   0,   0], dtype=uint8)"
      ]
     },
     "execution_count": 66,
     "metadata": {},
     "output_type": "execute_result"
    }
   ],
   "source": [
    "train_images[3]"
   ]
  },
  {
   "cell_type": "markdown",
   "metadata": {},
   "source": [
    "It would be nice if we could actually see what this picture looks like. Note that the form $(n\\_obs, total\\_n\\_pixels)$, which is what we obtained looking at `np.shape(train_images)`, is desirable when training neural networks, but if we want to *visualize* the actual images, we need to reshape $total\\_n\\_pixels$ to something of the form ($horiz\\_pixels$, $vertical\\_pixels$). Let's use the numpy function `matrix.reshape` to look at the 4th image."
   ]
  },
  {
   "cell_type": "code",
   "execution_count": 67,
   "metadata": {},
   "outputs": [],
   "source": [
    "reshape_example= np.matrix.reshape(train_images[3],28,28)"
   ]
  },
  {
   "cell_type": "markdown",
   "metadata": {},
   "source": [
    "Let's quickly have a look at how this changed the data structure. Notice how you have an 28 x 28 matrix now!"
   ]
  },
  {
   "cell_type": "code",
   "execution_count": 68,
   "metadata": {},
   "outputs": [
    {
     "data": {
      "text/plain": [
       "array([[  0,   0,   0,   0,   2,   1,   0,   1,   1,   1,   0, 146, 173,\n",
       "        138, 141, 146, 173,   0,   0,   3,   1,   1,   1,   0,   0,   0,\n",
       "          0,   0],\n",
       "       [  0,   0,   0,   0,   1,   3,   3,   0,   0,   0,  50, 231, 244,\n",
       "        248, 249, 249, 232, 148,   0,   0,   0,   0,   3,   1,   0,   0,\n",
       "          0,   0],\n",
       "       [  0,   0,   0,   0,   2,   0,   0,  12,  97, 173, 213, 190, 228,\n",
       "        255, 245, 245, 186, 202, 176, 103,  39,   0,   0,   2,   0,   0,\n",
       "          0,   0],\n",
       "       [  0,   0,   0,   0,   0,  13, 177, 191, 203, 199, 197, 181, 186,\n",
       "        219, 225, 203, 169, 191, 198, 207, 196, 203,  65,   0,   0,   0,\n",
       "          0,   0],\n",
       "       [  0,   0,   0,   0,   0, 168, 205, 186, 183, 183, 186, 199, 215,\n",
       "        198, 172, 217, 213, 190, 180, 181, 183, 194, 196,  43,   0,   0,\n",
       "          0,   0],\n",
       "       [  0,   0,   0,   0, 113, 209, 184, 188, 188, 188, 188, 183, 185,\n",
       "        207, 148, 186, 181, 184, 186, 186, 184, 181, 192, 201,   0,   0,\n",
       "          0,   0],\n",
       "       [  0,   0,   0,   0, 185, 201, 191, 190, 190, 189, 189, 187, 197,\n",
       "        195, 160, 192, 184, 185, 181, 185, 184, 190, 185, 208,  23,   0,\n",
       "          0,   0],\n",
       "       [  0,   0,   0,   3, 219, 194, 195, 192, 190, 190, 188, 188, 191,\n",
       "        202, 187, 189, 181, 186, 187, 179, 183, 180, 179, 207,  61,   0,\n",
       "          0,   0],\n",
       "       [  0,   0,   0,  52, 213, 192, 198, 196, 193, 191, 189, 187, 186,\n",
       "        189, 185, 189, 185, 186, 202, 181, 186, 179, 183, 205,  99,   0,\n",
       "          0,   0],\n",
       "       [  0,   0,   0,  88, 201, 188, 213, 220, 191, 193, 190, 189, 188,\n",
       "        187, 187, 188, 188, 185, 185, 179, 198, 217, 191, 189, 137,   0,\n",
       "          0,   0],\n",
       "       [  0,   0,   0, 179, 216, 224, 247, 208, 201, 201, 194, 192, 189,\n",
       "        189, 188, 189, 187, 191, 191, 189, 185, 237, 226, 208, 177,   0,\n",
       "          0,   0],\n",
       "       [  0,   0,   0,  51, 154, 208, 175,  63, 212, 202, 197, 193, 191,\n",
       "        189, 188, 189, 190, 190, 190, 202, 133,  87, 220, 140,  27,   0,\n",
       "          0,   0],\n",
       "       [  0,   0,   0,   0,   0,   0,   0,  59, 211, 191, 201, 191, 191,\n",
       "        189, 188, 189, 188, 187, 181, 196, 162,   0,   0,   0,   0,   0,\n",
       "          0,   0],\n",
       "       [  0,   0,   0,   0,   0,   0,   0,  82, 211, 192, 202, 191, 192,\n",
       "        190, 188, 189, 188, 190, 186, 188, 169,   0,   0,   0,   0,   0,\n",
       "          0,   0],\n",
       "       [  0,   0,   0,   0,   0,   3,   0,  82, 201, 191, 201, 191, 192,\n",
       "        190, 188, 189, 188, 191, 191, 188, 164,   0,   0,   0,   0,   0,\n",
       "          0,   0],\n",
       "       [  0,   0,   0,   0,   0,   5,   0,  70, 195, 190, 194, 189, 191,\n",
       "        190, 188, 189, 189, 185, 191, 188, 157,   0,   0,   0,   0,   0,\n",
       "          0,   0],\n",
       "       [  0,   0,   0,   0,   0,   5,   0,  63, 195, 187, 191, 190, 191,\n",
       "        190, 189, 189, 190, 185, 187, 191, 151,   0,   0,   0,   0,   0,\n",
       "          0,   0],\n",
       "       [  0,   0,   0,   0,   0,   5,   0,  66, 198, 186, 192, 190, 191,\n",
       "        190, 189, 189, 189, 189, 178, 195, 140,   0,   0,   0,   0,   0,\n",
       "          0,   0],\n",
       "       [  0,   0,   0,   0,   0,   5,   0,  61, 195, 186, 192, 190, 191,\n",
       "        190, 189, 189, 190, 188, 178, 194, 135,   0,   0,   0,   0,   0,\n",
       "          0,   0],\n",
       "       [  0,   0,   0,   0,   0,   4,   0,  68, 192, 186, 193, 191, 191,\n",
       "        191, 190, 189, 190, 188, 184, 191, 141,   0,   0,   0,   0,   0,\n",
       "          0,   0],\n",
       "       [  0,   0,   0,   0,   0,   5,   0,  74, 193, 185, 194, 192, 192,\n",
       "        191, 190, 189, 189, 188, 185, 191, 151,   0,   0,   1,   0,   0,\n",
       "          0,   0],\n",
       "       [  0,   0,   0,   0,   0,   5,   0,  74, 192, 187, 194, 192, 192,\n",
       "        193, 192, 189, 187, 188, 185, 192, 165,   0,   0,   1,   0,   0,\n",
       "          0,   0],\n",
       "       [  0,   0,   0,   0,   0,   5,   0,  74, 193, 189, 193, 192, 193,\n",
       "        193, 191, 189, 187, 188, 185, 191, 175,   0,   0,   1,   0,   0,\n",
       "          0,   0],\n",
       "       [  0,   0,   0,   0,   0,   5,   0,  76, 197, 189, 190, 191, 193,\n",
       "        190, 188, 189, 190, 187, 184, 190, 185,   0,   0,   1,   0,   0,\n",
       "          0,   0],\n",
       "       [  0,   0,   0,   0,   0,   5,   0,  77, 197, 189, 189, 191, 192,\n",
       "        190, 190, 189, 189, 187, 185, 188, 197,   0,   0,   2,   0,   0,\n",
       "          0,   0],\n",
       "       [  0,   0,   0,   0,   0,   5,   0,  75, 196, 186, 185, 186, 187,\n",
       "        186, 186, 186, 186, 181, 184, 185, 172,   0,   0,   3,   0,   0,\n",
       "          0,   0],\n",
       "       [  0,   0,   0,   0,   0,   6,   0,  88, 204, 191, 206, 205, 205,\n",
       "        205, 205, 205, 205, 204, 202, 190, 184,  14,   0,   4,   0,   0,\n",
       "          0,   0],\n",
       "       [  0,   0,   0,   0,   0,   4,   0,  63, 175, 138, 140, 140, 141,\n",
       "        137, 136, 136, 136, 132, 130, 132, 148,   4,   0,   2,   0,   0,\n",
       "          0,   0]], dtype=uint8)"
      ]
     },
     "execution_count": 68,
     "metadata": {},
     "output_type": "execute_result"
    }
   ],
   "source": [
    "reshape_example"
   ]
  },
  {
   "cell_type": "code",
   "execution_count": 69,
   "metadata": {},
   "outputs": [
    {
     "data": {
      "image/png": "[encoded data removed]",
      "text/plain": [
       "<matplotlib.figure.Figure at 0x182d4225c0>"
      ]
     },
     "metadata": {},
     "output_type": "display_data"
    }
   ],
   "source": [
    "%matplotlib inline\n",
    "import matplotlib.pyplot as plt\n",
    "plt.imshow(reshape_example, cmap=plt.cm.binary)\n",
    "plt.show()"
   ]
  },
  {
   "cell_type": "markdown",
   "metadata": {},
   "source": [
    "Remember that the resolution of this image is pretty low, but for this example it's definitely clear that this is a shirt!"
   ]
  },
  {
   "cell_type": "markdown",
   "metadata": {},
   "source": [
    "Let's look at the labels. As mentioned, there are 10 classes of clothing in this data set. In the `train_labels` (`test_labels`) data set, this means that there are exactly 10,000 (2500) inputs with each input ranging from [0,9]."
   ]
  },
  {
   "cell_type": "code",
   "execution_count": 70,
   "metadata": {},
   "outputs": [
    {
     "data": {
      "text/plain": [
       "(10000,)"
      ]
     },
     "execution_count": 70,
     "metadata": {},
     "output_type": "execute_result"
    }
   ],
   "source": [
    "np.shape(train_labels)"
   ]
  },
  {
   "cell_type": "code",
   "execution_count": 71,
   "metadata": {},
   "outputs": [
    {
     "data": {
      "text/plain": [
       "array([4, 6, 2, ..., 8, 1, 0], dtype=uint8)"
      ]
     },
     "execution_count": 71,
     "metadata": {},
     "output_type": "execute_result"
    }
   ],
   "source": [
    "train_labels"
   ]
  },
  {
   "cell_type": "markdown",
   "metadata": {},
   "source": [
    "Although we'll keep this decoded version to train and test our model (actually, we'll decode even further and perform one-hot encoding), it would be nice if we could do a sanity check on our data now and verify that the train instances are labeled correctly. Going back to the github repository, we find a table with information on what number is associated with which type of clothing (https://github.com/zalandoresearch/fashion-mnist#labels). \n",
    "\n",
    "Let's now create a dictionary to encode the data back from number to clothing category. The `encoded_train` and `encoded_test` objects now contains the encoded labels. Let's have a look at the 4th observation in the `encoded_train` and check if the picture we showed before is indeed identified as a t-shirt."
   ]
  },
  {
   "cell_type": "code",
   "execution_count": 72,
   "metadata": {},
   "outputs": [],
   "source": [
    "encoded_labels = {0:'T-shirt/Top',\n",
    "                  1:'Trouser',\n",
    "                  2:'Pullover',\n",
    "                  3:'Dress',\n",
    "                  4:'Coat',\n",
    "                  5:'Sandal',\n",
    "                  6:'Shirt',\n",
    "                  7:'Sneaker',\n",
    "                  8:'Bag',\n",
    "                  9:'Ankle Boot'}\n",
    "\n",
    "encoded_train = [encoded_labels[i] for i in train_labels]\n",
    "encoded_test = [encoded_labels[i] for i in test_labels]"
   ]
  },
  {
   "cell_type": "code",
   "execution_count": 73,
   "metadata": {},
   "outputs": [
    {
     "data": {
      "text/plain": [
       "'T-shirt/Top'"
      ]
     },
     "execution_count": 73,
     "metadata": {},
     "output_type": "execute_result"
    }
   ],
   "source": [
    "encoded_train[3]"
   ]
  },
  {
   "cell_type": "markdown",
   "metadata": {},
   "source": [
    "This label seems to be correct! By replacing the value passed in `index_test` below, you can look at several pictures and the associated label. "
   ]
  },
  {
   "cell_type": "code",
   "execution_count": 74,
   "metadata": {},
   "outputs": [
    {
     "data": {
      "image/png": "[encoded data removed]",
      "text/plain": [
       "<matplotlib.figure.Figure at 0x182da2df60>"
      ]
     },
     "metadata": {},
     "output_type": "display_data"
    },
    {
     "data": {
      "text/plain": [
       "'Pullover'"
      ]
     },
     "execution_count": 74,
     "metadata": {},
     "output_type": "execute_result"
    }
   ],
   "source": [
    "index_fill = 233 # replace with any value between 0 and 9999\n",
    "\n",
    "reshape= np.matrix.reshape(train_images[index_fill],28,28)\n",
    "\n",
    "import matplotlib.pyplot as plt\n",
    "plt.imshow(reshape, cmap=plt.cm.binary)\n",
    "plt.show()\n",
    "\n",
    "encoded_train[index_fill]"
   ]
  },
  {
   "cell_type": "markdown",
   "metadata": {},
   "source": [
    "# 2. Build densely connected network as a baseline"
   ]
  },
  {
   "cell_type": "markdown",
   "metadata": {},
   "source": [
    "Every time you run a newer, more advanced model on your data, you would want to make sure you compare it with what you have learned. For that reason, let's look at a dense neural network as a baseline before diving into convolutional networks. As data is manipulated slightly differently in convolutional networks, let's perform data manipulation for the dense network, and we'll start over from scratch for the convolutional neural network."
   ]
  },
  {
   "cell_type": "markdown",
   "metadata": {},
   "source": [
    "Remember that the image data is stored in an array of shape (10000, 784) of type uint8 with values in the [0, 255] interval. To serve as input for the model, we want transform it into a float32 array of the same shape, but with values between 0 and 1 instead of 0 and 255.  "
   ]
  },
  {
   "cell_type": "code",
   "execution_count": 75,
   "metadata": {},
   "outputs": [],
   "source": [
    "train_images = train_images.astype('float32') / 255\n",
    "test_images = test_images.astype('float32') / 255"
   ]
  },
  {
   "cell_type": "markdown",
   "metadata": {},
   "source": [
    "We're not quite done yet. Remember that instead of a label somewhere [0,9], neural networks generally use one-hot encoding. For this exercise, this means that the label for each observation is replaced by a vector containing 9 `0`'s and just 1 `1`, in the place of the label index.\n",
    "\n",
    "You can use `to_categorical` in `keras.utils` to do this."
   ]
  },
  {
   "cell_type": "code",
   "execution_count": 76,
   "metadata": {},
   "outputs": [],
   "source": [
    "from keras.utils import to_categorical\n",
    "train_labels = to_categorical(train_labels)\n",
    "test_labels= to_categorical(test_labels)"
   ]
  },
  {
   "cell_type": "code",
   "execution_count": 77,
   "metadata": {},
   "outputs": [
    {
     "data": {
      "text/plain": [
       "array([[0., 0., 0., ..., 1., 0., 0.],\n",
       "       [0., 0., 0., ..., 0., 0., 0.],\n",
       "       [0., 0., 0., ..., 0., 0., 0.],\n",
       "       ...,\n",
       "       [0., 0., 0., ..., 1., 0., 0.],\n",
       "       [0., 0., 0., ..., 0., 0., 0.],\n",
       "       [0., 0., 0., ..., 0., 1., 0.]], dtype=float32)"
      ]
     },
     "execution_count": 77,
     "metadata": {},
     "output_type": "execute_result"
    }
   ],
   "source": [
    "test_labels"
   ]
  },
  {
   "cell_type": "code",
   "execution_count": 78,
   "metadata": {},
   "outputs": [
    {
     "data": {
      "text/plain": [
       "(2500, 10)"
      ]
     },
     "execution_count": 78,
     "metadata": {},
     "output_type": "execute_result"
    }
   ],
   "source": [
    "np.shape(test_labels)"
   ]
  },
  {
   "cell_type": "markdown",
   "metadata": {},
   "source": [
    "From our 10,000 training set elements, let set 2000 aside for validation."
   ]
  },
  {
   "cell_type": "code",
   "execution_count": 81,
   "metadata": {},
   "outputs": [],
   "source": [
    "img_val = train_images[:2000]\n",
    "partial_img_train  = train_images[2000:]\n",
    "label_val = train_labels[:2000]\n",
    "partial_label_train = train_labels[2000:]"
   ]
  },
  {
   "cell_type": "markdown",
   "metadata": {},
   "source": [
    "Now, let's build our baseline network. You'll build two dense hidden layers, the first one with 128 hidden units, and the second one with 64 hidden units. Use the rectified linear unit as an activation function for both. Remember that the input shape is 28 x 28 for both layers. The last layer of the network should have a softmax activation function (because this is a multiclass problem), and 10 units.\n",
    "\n",
    "Let's train the model for 50 epochs in batches of 128."
   ]
  },
  {
   "cell_type": "code",
   "execution_count": 82,
   "metadata": {},
   "outputs": [
    {
     "name": "stdout",
     "output_type": "stream",
     "text": [
      "Train on 8000 samples, validate on 2000 samples\n",
      "Epoch 1/50\n",
      "8000/8000 [==============================] - 0s 49us/step - loss: 0.9680 - acc: 0.6643 - val_loss: 0.7391 - val_acc: 0.7330\n",
      "Epoch 2/50\n",
      "8000/8000 [==============================] - 0s 26us/step - loss: 0.6132 - acc: 0.7807 - val_loss: 0.6187 - val_acc: 0.7780\n",
      "Epoch 3/50\n",
      "8000/8000 [==============================] - 0s 23us/step - loss: 0.5347 - acc: 0.8123 - val_loss: 0.4792 - val_acc: 0.8365\n",
      "Epoch 4/50\n",
      "8000/8000 [==============================] - 0s 25us/step - loss: 0.4916 - acc: 0.8192 - val_loss: 0.7052 - val_acc: 0.7500\n",
      "Epoch 5/50\n",
      "8000/8000 [==============================] - 0s 25us/step - loss: 0.4606 - acc: 0.8365 - val_loss: 0.4932 - val_acc: 0.8295\n",
      "Epoch 6/50\n",
      "8000/8000 [==============================] - 0s 24us/step - loss: 0.4223 - acc: 0.8465 - val_loss: 0.4650 - val_acc: 0.8360\n",
      "Epoch 7/50\n",
      "8000/8000 [==============================] - 0s 25us/step - loss: 0.4046 - acc: 0.8531 - val_loss: 0.5430 - val_acc: 0.8045\n",
      "Epoch 8/50\n",
      "8000/8000 [==============================] - 0s 27us/step - loss: 0.3874 - acc: 0.8599 - val_loss: 0.5632 - val_acc: 0.7905\n",
      "Epoch 9/50\n",
      "8000/8000 [==============================] - 0s 27us/step - loss: 0.3684 - acc: 0.8616 - val_loss: 0.4702 - val_acc: 0.8365\n",
      "Epoch 10/50\n",
      "8000/8000 [==============================] - 0s 25us/step - loss: 0.3514 - acc: 0.8720 - val_loss: 0.5690 - val_acc: 0.8030\n",
      "Epoch 11/50\n",
      "8000/8000 [==============================] - 0s 27us/step - loss: 0.3386 - acc: 0.8768 - val_loss: 0.5713 - val_acc: 0.8045\n",
      "Epoch 12/50\n",
      "8000/8000 [==============================] - 0s 27us/step - loss: 0.3215 - acc: 0.8817 - val_loss: 0.4235 - val_acc: 0.8620\n",
      "Epoch 13/50\n",
      "8000/8000 [==============================] - 0s 27us/step - loss: 0.3182 - acc: 0.8861 - val_loss: 0.5728 - val_acc: 0.7925\n",
      "Epoch 14/50\n",
      "8000/8000 [==============================] - 0s 27us/step - loss: 0.2937 - acc: 0.8936 - val_loss: 0.4936 - val_acc: 0.8435\n",
      "Epoch 15/50\n",
      "8000/8000 [==============================] - 0s 28us/step - loss: 0.2879 - acc: 0.8958 - val_loss: 0.4394 - val_acc: 0.8420\n",
      "Epoch 16/50\n",
      "8000/8000 [==============================] - 0s 30us/step - loss: 0.2780 - acc: 0.8981 - val_loss: 0.4258 - val_acc: 0.8505\n",
      "Epoch 17/50\n",
      "8000/8000 [==============================] - 0s 23us/step - loss: 0.2621 - acc: 0.9039 - val_loss: 0.4085 - val_acc: 0.8615\n",
      "Epoch 18/50\n",
      "8000/8000 [==============================] - 0s 20us/step - loss: 0.2594 - acc: 0.9042 - val_loss: 0.4441 - val_acc: 0.8465\n",
      "Epoch 19/50\n",
      "8000/8000 [==============================] - 0s 21us/step - loss: 0.2501 - acc: 0.9103 - val_loss: 0.4181 - val_acc: 0.8495\n",
      "Epoch 20/50\n",
      "8000/8000 [==============================] - 0s 19us/step - loss: 0.2404 - acc: 0.9126 - val_loss: 0.3946 - val_acc: 0.8655\n",
      "Epoch 21/50\n",
      "8000/8000 [==============================] - 0s 19us/step - loss: 0.2291 - acc: 0.9159 - val_loss: 0.4560 - val_acc: 0.8535\n",
      "Epoch 22/50\n",
      "8000/8000 [==============================] - 0s 20us/step - loss: 0.2296 - acc: 0.9167 - val_loss: 0.5189 - val_acc: 0.8415\n",
      "Epoch 23/50\n",
      "8000/8000 [==============================] - 0s 21us/step - loss: 0.2183 - acc: 0.9174 - val_loss: 0.5194 - val_acc: 0.8215\n",
      "Epoch 24/50\n",
      "8000/8000 [==============================] - 0s 24us/step - loss: 0.2092 - acc: 0.9254 - val_loss: 0.4129 - val_acc: 0.8590\n",
      "Epoch 25/50\n",
      "8000/8000 [==============================] - 0s 21us/step - loss: 0.2053 - acc: 0.9250 - val_loss: 0.4639 - val_acc: 0.8430\n",
      "Epoch 26/50\n",
      "8000/8000 [==============================] - 0s 21us/step - loss: 0.1983 - acc: 0.9278 - val_loss: 0.4966 - val_acc: 0.8330\n",
      "Epoch 27/50\n",
      "8000/8000 [==============================] - 0s 24us/step - loss: 0.1899 - acc: 0.9289 - val_loss: 0.4480 - val_acc: 0.8530\n",
      "Epoch 28/50\n",
      "8000/8000 [==============================] - 0s 22us/step - loss: 0.1777 - acc: 0.9334 - val_loss: 0.4504 - val_acc: 0.8580\n",
      "Epoch 29/50\n",
      "8000/8000 [==============================] - 0s 21us/step - loss: 0.1832 - acc: 0.9329 - val_loss: 0.4487 - val_acc: 0.8530\n",
      "Epoch 30/50\n",
      "8000/8000 [==============================] - 0s 19us/step - loss: 0.1725 - acc: 0.9390 - val_loss: 0.4230 - val_acc: 0.8605\n",
      "Epoch 31/50\n",
      "8000/8000 [==============================] - 0s 19us/step - loss: 0.1637 - acc: 0.9397 - val_loss: 0.4623 - val_acc: 0.8485\n",
      "Epoch 32/50\n",
      "8000/8000 [==============================] - 0s 19us/step - loss: 0.1626 - acc: 0.9397 - val_loss: 0.4419 - val_acc: 0.8520\n",
      "Epoch 33/50\n",
      "8000/8000 [==============================] - 0s 18us/step - loss: 0.1568 - acc: 0.9426 - val_loss: 0.4768 - val_acc: 0.8545\n",
      "Epoch 34/50\n",
      "8000/8000 [==============================] - 0s 24us/step - loss: 0.1447 - acc: 0.9464 - val_loss: 0.4404 - val_acc: 0.8660\n",
      "Epoch 35/50\n",
      "8000/8000 [==============================] - 0s 23us/step - loss: 0.1466 - acc: 0.9475 - val_loss: 0.4836 - val_acc: 0.8490\n",
      "Epoch 36/50\n",
      "8000/8000 [==============================] - 0s 26us/step - loss: 0.1403 - acc: 0.9486 - val_loss: 0.4449 - val_acc: 0.8650\n",
      "Epoch 37/50\n",
      "8000/8000 [==============================] - 0s 37us/step - loss: 0.1369 - acc: 0.9486 - val_loss: 0.4619 - val_acc: 0.8620\n",
      "Epoch 38/50\n",
      "8000/8000 [==============================] - 0s 31us/step - loss: 0.1330 - acc: 0.9534 - val_loss: 0.5691 - val_acc: 0.8285\n",
      "Epoch 39/50\n",
      "8000/8000 [==============================] - 0s 23us/step - loss: 0.1345 - acc: 0.9504 - val_loss: 0.5617 - val_acc: 0.8425\n",
      "Epoch 40/50\n",
      "8000/8000 [==============================] - 0s 25us/step - loss: 0.1282 - acc: 0.9547 - val_loss: 0.4673 - val_acc: 0.8710\n",
      "Epoch 41/50\n",
      "8000/8000 [==============================] - 0s 29us/step - loss: 0.1179 - acc: 0.9571 - val_loss: 0.4879 - val_acc: 0.8500\n",
      "Epoch 42/50\n",
      "8000/8000 [==============================] - 0s 34us/step - loss: 0.1117 - acc: 0.9589 - val_loss: 0.5136 - val_acc: 0.8565\n",
      "Epoch 43/50\n",
      "8000/8000 [==============================] - 0s 27us/step - loss: 0.1160 - acc: 0.9574 - val_loss: 0.5140 - val_acc: 0.8560\n",
      "Epoch 44/50\n",
      "8000/8000 [==============================] - 0s 38us/step - loss: 0.1099 - acc: 0.9622 - val_loss: 0.5980 - val_acc: 0.8385\n",
      "Epoch 45/50\n",
      "8000/8000 [==============================] - 0s 33us/step - loss: 0.1083 - acc: 0.9597 - val_loss: 0.5255 - val_acc: 0.8580\n",
      "Epoch 46/50\n",
      "8000/8000 [==============================] - 0s 31us/step - loss: 0.1034 - acc: 0.9631 - val_loss: 0.5501 - val_acc: 0.8645\n",
      "Epoch 47/50\n",
      "8000/8000 [==============================] - 0s 33us/step - loss: 0.1009 - acc: 0.9641 - val_loss: 0.7539 - val_acc: 0.8095\n",
      "Epoch 48/50\n",
      "8000/8000 [==============================] - 0s 31us/step - loss: 0.1032 - acc: 0.9625 - val_loss: 0.6644 - val_acc: 0.8495\n",
      "Epoch 49/50\n",
      "8000/8000 [==============================] - 0s 33us/step - loss: 0.0957 - acc: 0.9663 - val_loss: 0.5288 - val_acc: 0.8625\n",
      "Epoch 50/50\n",
      "8000/8000 [==============================] - 0s 31us/step - loss: 0.0934 - acc: 0.9666 - val_loss: 0.5594 - val_acc: 0.8515\n"
     ]
    }
   ],
   "source": [
    "from keras import models\n",
    "from keras import layers\n",
    "dense = models.Sequential()\n",
    "dense.add(layers.Dense(128, activation='relu', input_shape=(28 * 28,)))\n",
    "dense.add(layers.Dense(64, activation='relu', input_shape=(28 * 28,)))\n",
    "dense.add(layers.Dense(10, activation='softmax'))\n",
    "\n",
    "dense.compile(optimizer='rmsprop',\n",
    "                loss='categorical_crossentropy',\n",
    "                metrics=['accuracy'])\n",
    "\n",
    "dense_fit = dense.fit(partial_img_train, \n",
    "                      partial_label_train, \n",
    "                      epochs=50, \n",
    "                      batch_size=128,\n",
    "                      validation_data=(img_val, label_val))"
   ]
  },
  {
   "cell_type": "markdown",
   "metadata": {},
   "source": [
    "Let's plot the evolution of the training versus validation loss along the epochs."
   ]
  },
  {
   "cell_type": "code",
   "execution_count": 83,
   "metadata": {},
   "outputs": [
    {
     "data": {
      "image/png": "[encoded data removed]",
      "text/plain": [
       "<matplotlib.figure.Figure at 0x18316c5710>"
      ]
     },
     "metadata": {},
     "output_type": "display_data"
    }
   ],
   "source": [
    "hist_dense = dense_fit.history\n",
    "loss_values = hist_dense['loss']\n",
    "val_loss_values = hist_dense['val_loss']\n",
    "\n",
    "epochs = range(1, len(loss_values) + 1)\n",
    "plt.plot(epochs, loss_values, 'g.', label='Training loss')\n",
    "plt.plot(epochs, val_loss_values, 'g', label='Validation loss')\n",
    "\n",
    "plt.title('Training and validation loss')\n",
    "plt.xlabel('Epochs')\n",
    "plt.ylabel('Loss')\n",
    "plt.legend()\n",
    "plt.show()"
   ]
  },
  {
   "cell_type": "markdown",
   "metadata": {},
   "source": [
    "Let's plot the evolution of the training versus validation accuracy along the epochs."
   ]
  },
  {
   "cell_type": "code",
   "execution_count": null,
   "metadata": {},
   "outputs": [],
   "source": [
    "acc_values = hist_dense['acc'] \n",
    "val_acc_values = hist_dense['val_acc']\n",
    "\n",
    "plt.plot(epochs, acc_values, 'r.', label='Training acc')\n",
    "plt.plot(epochs, val_acc_values, 'r', label='Validation acc')\n",
    "plt.title('Training and validation accuracy')\n",
    "plt.xlabel('Epochs')\n",
    "plt.ylabel('Loss')\n",
    "plt.legend()\n",
    "plt.show()"
   ]
  },
  {
   "cell_type": "markdown",
   "metadata": {},
   "source": [
    "The validation accuracy and loss seem to be fairly volatile, but as we move along the epochs, the validation loss seems to go up again.\n",
    "It seems appropriate to stop training after about ~20 epochs. Let's run the model again changing `epochs = 20`, and let's look at the results."
   ]
  },
  {
   "cell_type": "code",
   "execution_count": null,
   "metadata": {},
   "outputs": [],
   "source": [
    "dense_final = models.Sequential()\n",
    "dense_final.add(layers.Dense(128, activation='relu', input_shape=(28 * 28,)))\n",
    "dense_final.add(layers.Dense(64, activation='relu', input_shape=(28 * 28,)))\n",
    "dense_final.add(layers.Dense(10, activation='softmax'))\n",
    "\n",
    "dense_final.compile(optimizer='rmsprop',\n",
    "                loss='categorical_crossentropy',\n",
    "                metrics=['accuracy'])\n",
    "\n",
    "dense_final_fit = dense_final.fit(partial_img_train, \n",
    "                                  partial_label_train, \n",
    "                                  epochs=20, \n",
    "                                  batch_size=128,\n",
    "                                  validation_data=(img_val, label_val))"
   ]
  },
  {
   "cell_type": "code",
   "execution_count": null,
   "metadata": {},
   "outputs": [],
   "source": [
    "results_dense_final = dense_final.evaluate(test_images, test_labels)"
   ]
  },
  {
   "cell_type": "code",
   "execution_count": null,
   "metadata": {},
   "outputs": [],
   "source": [
    "results_dense_final"
   ]
  },
  {
   "cell_type": "markdown",
   "metadata": {},
   "source": [
    "The test set classification accuracy is about 80%. Not bad, for a 10-fold classification and a fairly small data size. Let's see if we can do better with a convolutional net!"
   ]
  },
  {
   "cell_type": "markdown",
   "metadata": {},
   "source": [
    "# 3. A convolutional network"
   ]
  },
  {
   "cell_type": "markdown",
   "metadata": {},
   "source": [
    "## 3.1 Data pre-processing"
   ]
  },
  {
   "cell_type": "markdown",
   "metadata": {},
   "source": [
    "The data needs to be pre-processed differently. Let's start again from scratch."
   ]
  },
  {
   "cell_type": "code",
   "execution_count": null,
   "metadata": {},
   "outputs": [],
   "source": [
    "train_images, train_labels = load_mnist( path = \"data_zalando/\",kind='train')\n",
    "test_images, test_labels = load_mnist(path = \"data_zalando/\", kind='t10k')\n",
    "\n",
    "import random\n",
    "index_train = range(0,59999)\n",
    "index_test= range(0,9999)\n",
    "\n",
    "random.seed(1109)\n",
    "train_sample = sample(index_train,  10000)\n",
    "test_sample = sample(index_test,  2500)\n",
    "\n",
    "train_images = train_images[train_sample]\n",
    "train_labels = train_labels[train_sample]\n",
    "test_images = test_images[test_sample]\n",
    "test_labels = test_labels[test_sample]"
   ]
  },
  {
   "cell_type": "markdown",
   "metadata": {},
   "source": [
    "Where the input layer for a dense neural network is fine to be $(n\\_obs, total\\_n\\_pixels)$, we want the training in data in convolutions to be $(n\\_obs, horiz\\_pixels, vertical\\_pixels, num\\_channels)$, because convolutions operate over 3D tensors, with two spatial axes (height and width) and a depth axis (also referred to as $channels$ axis). For an RGB image, the dimension of the depth axis is 3, because of the three color channels red, green, and blue. For a black-and-white picture the depth is 1 (levels of gray). We need to reshape train_images and test_images as follows:"
   ]
  },
  {
   "cell_type": "code",
   "execution_count": null,
   "metadata": {},
   "outputs": [],
   "source": [
    "train_images = train_images.reshape((10000, 28, 28, 1))\n",
    "test_images = test_images.reshape((2500, 28, 28, 1))"
   ]
  },
  {
   "cell_type": "markdown",
   "metadata": {},
   "source": [
    "Remember that the image data is stored in an array of shape (10000, 784) of type uint8 with values in the [0, 255] interval. To serve as input for the convolutional model, you'll need to transform it again into a float32 array of the same shape, but with values between 0 and 1 instead of 0 and 255.  "
   ]
  },
  {
   "cell_type": "code",
   "execution_count": null,
   "metadata": {},
   "outputs": [],
   "source": [
    "test_images = test_images.astype('float32') / 255\n",
    "train_images = train_images.astype('float32') / 255"
   ]
  },
  {
   "cell_type": "markdown",
   "metadata": {},
   "source": [
    "Let's perform one-hot encoding on the labels again! You can use `to_categorical` in `keras.utils` to do this."
   ]
  },
  {
   "cell_type": "code",
   "execution_count": null,
   "metadata": {},
   "outputs": [],
   "source": [
    "from keras.utils import to_categorical\n",
    "train_labels = to_categorical(train_labels)\n",
    "test_labels = to_categorical(test_labels)"
   ]
  },
  {
   "cell_type": "code",
   "execution_count": null,
   "metadata": {},
   "outputs": [],
   "source": [
    "train_labels"
   ]
  },
  {
   "cell_type": "markdown",
   "metadata": {},
   "source": [
    "Again, we'll want to split the training set up in actual training data and validation data."
   ]
  },
  {
   "cell_type": "code",
   "execution_count": null,
   "metadata": {},
   "outputs": [],
   "source": [
    "img_val = train_images[:2000]\n",
    "partial_img_train  = train_images[2000:]\n",
    "label_val = train_labels[:2000]\n",
    "partial_label_train = train_labels[2000:]"
   ]
  },
  {
   "cell_type": "markdown",
   "metadata": {},
   "source": [
    "Let's look at exactly what convolutions do. A convolution starts by sliding \"patches\" over the input. Patches are typically 3 x 3 or 5 x 5. Because of patching, the output width and height will differ from the input and depend on 2 things:\n",
    "- border effects\n",
    "- The use of strides\n"
   ]
  },
  {
   "cell_type": "markdown",
   "metadata": {},
   "source": [
    "The input shape for the first layer is (28, 28, 1), as previously discussed. For a convolutional layer, 2 additional decisions need to be made:\n",
    "- The depth of the convolutional layer, also the number of filters created by the convolution.\n",
    "- The dimensions of the so-called \"patches\" (generally 3 x 3 or 5 x 5).\n",
    "\n",
    "Using keras, this can be programmed as follows:\n",
    "`Conv2D(output_depth, (window_height, window_width))`"
   ]
  },
  {
   "cell_type": "markdown",
   "metadata": {},
   "source": [
    "## 3.2 Running the first model"
   ]
  },
  {
   "cell_type": "markdown",
   "metadata": {},
   "source": [
    "Use 3 convolutional layers (the first one with output depth 32, the latter two with output depth 64). Make sure all layers use 3x3 patches.\n",
    "\n",
    "Then, to downsample feature maps use maxpooling layers in between the convolution layers. Use the common 2 × 2 window and stride 2, in order to downsample the feature maps by a factor of 2. "
   ]
  },
  {
   "cell_type": "code",
   "execution_count": null,
   "metadata": {},
   "outputs": [],
   "source": [
    "# A small convnet\n",
    "from keras import layers \n",
    "from keras import models\n",
    "\n",
    "conv = models.Sequential()\n",
    "conv.add(layers.Conv2D(32, (3, 3), activation='relu', input_shape=(28, 28, 1))) \n",
    "conv.add(layers.MaxPooling2D((2, 2)))\n",
    "conv.add(layers.Conv2D(64, (3, 3), activation='relu')) \n",
    "conv.add(layers.MaxPooling2D((2, 2)))\n",
    "conv.add(layers.Conv2D(64, (3, 3), activation='relu'))\n",
    "\n",
    "# you can use `padding = valid` and `padding = same`. Strides \\= 1 for convolutional layers are not very common"
   ]
  },
  {
   "cell_type": "markdown",
   "metadata": {},
   "source": [
    "When convolutional networks, generally, dense layers are added towards the end of the network. First, we need to flatten the 3D outputs to 1D, and then we can add a few dense layers. Let's add one hidden layer with 64 units and relu, and again a softmax layer towards the end of the exercise."
   ]
  },
  {
   "cell_type": "code",
   "execution_count": null,
   "metadata": {},
   "outputs": [],
   "source": [
    "conv.add(layers.Flatten())\n",
    "conv.add(layers.Dense(64, activation='relu'))\n",
    "conv.add(layers.Dense(10, activation='softmax'))"
   ]
  },
  {
   "cell_type": "markdown",
   "metadata": {},
   "source": [
    "Note how the output layers change dimension. A summary of what exaclty is happening can be found using `.summary()`"
   ]
  },
  {
   "cell_type": "code",
   "execution_count": null,
   "metadata": {},
   "outputs": [],
   "source": [
    "conv.summary()"
   ]
  },
  {
   "cell_type": "markdown",
   "metadata": {},
   "source": [
    "Let's run this model, using 30 epochs and a batch size of 64. Use both the train data and the validation data in the model."
   ]
  },
  {
   "cell_type": "code",
   "execution_count": null,
   "metadata": {},
   "outputs": [],
   "source": [
    "conv.compile(optimizer='rmsprop',\n",
    "              loss='categorical_crossentropy',\n",
    "              metrics=['accuracy'])\n",
    "conv_fit = conv.fit(partial_img_train, \n",
    "                      partial_label_train, \n",
    "                      epochs=30, \n",
    "                      batch_size=64,\n",
    "                      validation_data=(img_val, label_val))"
   ]
  },
  {
   "cell_type": "markdown",
   "metadata": {},
   "source": [
    "Let's plot the evolution of the training versus validation loss along the epochs again."
   ]
  },
  {
   "cell_type": "code",
   "execution_count": null,
   "metadata": {},
   "outputs": [],
   "source": [
    "plt.clf()\n",
    "hist_conv = conv_fit.history\n",
    "loss_values = hist_conv['loss']\n",
    "val_loss_values = hist_conv['val_loss']\n",
    "\n",
    "epochs = range(1, len(loss_values) + 1)\n",
    "plt.plot(epochs, loss_values, 'g.', label='Training loss')\n",
    "plt.plot(epochs, val_loss_values, 'g', label='Validation loss')\n",
    "\n",
    "plt.title('Training and validation loss')\n",
    "plt.xlabel('Epochs')\n",
    "plt.ylabel('Loss')\n",
    "plt.legend()\n",
    "plt.show()"
   ]
  },
  {
   "cell_type": "markdown",
   "metadata": {},
   "source": [
    "Let's plot the evolution of the training versus validation loss along the epochs again."
   ]
  },
  {
   "cell_type": "code",
   "execution_count": null,
   "metadata": {},
   "outputs": [],
   "source": [
    "plt.clf()\n",
    "\n",
    "acc_values = hist_conv['acc'] \n",
    "val_acc_values = hist_conv['val_acc']\n",
    "\n",
    "plt.plot(epochs, acc_values, 'r.', label='Training acc')\n",
    "plt.plot(epochs, val_acc_values, 'r', label='Validation acc')\n",
    "plt.title('Training and validation accuracy')\n",
    "plt.xlabel('Epochs')\n",
    "plt.ylabel('Loss')\n",
    "plt.legend()\n",
    "plt.show()"
   ]
  },
  {
   "cell_type": "markdown",
   "metadata": {},
   "source": [
    "The validation accuracy and loss seem to be fairly volatile again, but as we move along the epochs, the validation loss definitely goes up. Here, seems appropriate to stop after about ~14 epochs. Let's retrain the entire model again."
   ]
  },
  {
   "cell_type": "code",
   "execution_count": null,
   "metadata": {},
   "outputs": [],
   "source": [
    "conv_final = models.Sequential()\n",
    "conv_final.add(layers.Conv2D(32, (3, 3), activation='relu', input_shape=(28, 28, 1))) \n",
    "conv_final.add(layers.MaxPooling2D((2, 2)))\n",
    "conv_final.add(layers.Conv2D(64, (3, 3), activation='relu')) \n",
    "conv_final.add(layers.MaxPooling2D((2, 2)))\n",
    "conv_final.add(layers.Conv2D(64, (3, 3), activation='relu'))\n",
    "\n",
    "conv_final.add(layers.Flatten())\n",
    "conv_final.add(layers.Dense(64, activation='relu'))\n",
    "conv_final.add(layers.Dense(10, activation='softmax'))\n",
    "\n",
    "conv_final.compile(optimizer='rmsprop',\n",
    "              loss='categorical_crossentropy',\n",
    "              metrics=['accuracy'])\n",
    "conv_final_fit = conv_final.fit(partial_img_train, \n",
    "                      partial_label_train, \n",
    "                      epochs=14, \n",
    "                      batch_size=64,\n",
    "                      validation_data=(img_val, label_val))"
   ]
  },
  {
   "cell_type": "code",
   "execution_count": null,
   "metadata": {},
   "outputs": [],
   "source": [
    "results_conv_final = conv_final.evaluate(test_images, test_labels)"
   ]
  },
  {
   "cell_type": "code",
   "execution_count": null,
   "metadata": {},
   "outputs": [],
   "source": [
    "results_conv_final"
   ]
  },
  {
   "cell_type": "markdown",
   "metadata": {},
   "source": [
    "The test set classification accuracy is 86.3%. Coming from 83.6 in the sequential model this is about a 3% improvement. For bigger data sets this could even be more! Let's see if we can still improve our model!"
   ]
  },
  {
   "cell_type": "markdown",
   "metadata": {},
   "source": [
    "## 3.3 Using drop-out regularization"
   ]
  },
  {
   "cell_type": "markdown",
   "metadata": {},
   "source": [
    "Note how we \"early stopping\" to fight overfitted models. Recall that there is another method, dropout regularization, to counter overfitting. Rerun our `conv` model, yet with a dropout layer right before the densely connected classifier, with parameter 0.5."
   ]
  },
  {
   "cell_type": "code",
   "execution_count": null,
   "metadata": {},
   "outputs": [],
   "source": [
    "conv_drop = models.Sequential()\n",
    "conv_drop.add(layers.Conv2D(32, (3, 3), activation='relu', input_shape=(28, 28, 1))) \n",
    "conv_drop.add(layers.MaxPooling2D((2, 2)))\n",
    "conv_drop.add(layers.Conv2D(64, (3, 3), activation='relu')) \n",
    "conv_drop.add(layers.MaxPooling2D((2, 2)))\n",
    "conv_drop.add(layers.Conv2D(64, (3, 3), activation='relu'))\n",
    "\n",
    "conv_drop.add(layers.Flatten())\n",
    "conv_drop.add(layers.Dropout(0.5))\n",
    "conv_drop.add(layers.Dense(64, activation='relu'))\n",
    "conv_drop.add(layers.Dense(10, activation='softmax'))\n",
    "\n",
    "conv_drop.compile(optimizer='rmsprop',\n",
    "              loss='categorical_crossentropy',\n",
    "              metrics=['accuracy'])\n",
    "conv_drop_fit = conv_drop.fit(partial_img_train, \n",
    "                      partial_label_train, \n",
    "                      epochs=30, \n",
    "                      batch_size=64,\n",
    "                      validation_data=(img_val, label_val))"
   ]
  },
  {
   "cell_type": "code",
   "execution_count": null,
   "metadata": {},
   "outputs": [],
   "source": [
    "plt.clf()\n",
    "hist_conv_drop = conv_drop_fit.history\n",
    "loss_values = hist_conv_drop['loss']\n",
    "val_loss_values = hist_conv_drop['val_loss']\n",
    "\n",
    "epochs = range(1, len(loss_values) + 1)\n",
    "plt.plot(epochs, loss_values, 'g.', label='Training loss')\n",
    "plt.plot(epochs, val_loss_values, 'g', label='Validation loss')\n",
    "\n",
    "plt.title('Training and validation loss')\n",
    "plt.xlabel('Epochs')\n",
    "plt.ylabel('Loss')\n",
    "plt.legend()\n",
    "plt.show()"
   ]
  },
  {
   "cell_type": "code",
   "execution_count": null,
   "metadata": {},
   "outputs": [],
   "source": [
    "plt.clf()\n",
    "\n",
    "acc_values = hist_conv_drop['acc'] \n",
    "val_acc_values = hist_conv_drop['val_acc']\n",
    "\n",
    "plt.plot(epochs, acc_values, 'r.', label='Training acc')\n",
    "plt.plot(epochs, val_acc_values, 'r', label='Validation acc')\n",
    "plt.title('Training and validation accuracy')\n",
    "plt.xlabel('Epochs')\n",
    "plt.ylabel('Loss')\n",
    "plt.legend()\n",
    "plt.show()"
   ]
  },
  {
   "cell_type": "markdown",
   "metadata": {},
   "source": [
    "Note how the dropout regularization made the curves much smoother! Additionally, the respective accuracies and losses don't diverge to the extent they did before. Let's stop after 20 epochs."
   ]
  },
  {
   "cell_type": "code",
   "execution_count": null,
   "metadata": {},
   "outputs": [],
   "source": [
    "conv_drop_final = models.Sequential()\n",
    "conv_drop_final.add(layers.Conv2D(32, (3, 3), activation='relu', input_shape=(28, 28, 1))) \n",
    "conv_drop_final.add(layers.MaxPooling2D((2, 2)))\n",
    "conv_drop_final.add(layers.Conv2D(64, (3, 3), activation='relu')) \n",
    "conv_drop_final.add(layers.MaxPooling2D((2, 2)))\n",
    "conv_drop_final.add(layers.Conv2D(64, (3, 3), activation='relu'))\n",
    "\n",
    "conv_drop_final.add(layers.Flatten())\n",
    "conv_drop_final.add(layers.Dropout(0.5))\n",
    "conv_drop_final.add(layers.Dense(64, activation='relu'))\n",
    "conv_drop_final.add(layers.Dense(10, activation='softmax'))\n",
    "\n",
    "conv_drop_final.compile(optimizer='rmsprop',\n",
    "              loss='categorical_crossentropy',\n",
    "              metrics=['accuracy'])\n",
    "conv_drop_final_fit = conv_drop_final.fit(partial_img_train, \n",
    "                      partial_label_train, \n",
    "                      epochs=20, \n",
    "                      batch_size=64,\n",
    "                      validation_data=(img_val, label_val))"
   ]
  },
  {
   "cell_type": "code",
   "execution_count": null,
   "metadata": {},
   "outputs": [],
   "source": [
    "results = conv_drop_final.evaluate(test_images, test_labels)"
   ]
  },
  {
   "cell_type": "code",
   "execution_count": null,
   "metadata": {},
   "outputs": [],
   "source": [
    "results"
   ]
  },
  {
   "cell_type": "markdown",
   "metadata": {},
   "source": [
    "Look at this! You were able to increase the test set accuracy by almost 1% (being 86.3% for the model without dropout regularization)."
   ]
  },
  {
   "cell_type": "markdown",
   "metadata": {},
   "source": [
    "## 3.4 Making predictions"
   ]
  },
  {
   "cell_type": "code",
   "execution_count": null,
   "metadata": {},
   "outputs": [],
   "source": [
    "predictions = conv_drop_final.predict(test_images)\n",
    "index_test = 2"
   ]
  },
  {
   "cell_type": "code",
   "execution_count": null,
   "metadata": {},
   "outputs": [],
   "source": [
    "predictions[index_test]"
   ]
  },
  {
   "cell_type": "code",
   "execution_count": null,
   "metadata": {},
   "outputs": [],
   "source": [
    "test_labels[index_test]"
   ]
  },
  {
   "cell_type": "code",
   "execution_count": null,
   "metadata": {},
   "outputs": [],
   "source": [
    "reshape= np.matrix.reshape(test_images[index_test],28,28)\n",
    "\n",
    "%matplotlib inline\n",
    "import matplotlib.pyplot as plt\n",
    "plt.imshow(reshape, cmap=plt.cm.binary)\n",
    "plt.show()\n",
    "\n",
    "encoded_test[index_test]"
   ]
  },
  {
   "cell_type": "markdown",
   "metadata": {},
   "source": [
    "This coat is incorrectly classified as a dress! Not really surprising, looking at it, right?"
   ]
  },
  {
   "cell_type": "markdown",
   "metadata": {},
   "source": [
    "## 3.5 Try tweaking the model yourself!"
   ]
  },
  {
   "cell_type": "markdown",
   "metadata": {},
   "source": [
    "The possibilities are literally endless!\n",
    "- add/remove layers\n",
    "- In some layers, change `padding = valid` and `padding = same`\n",
    "- change activation functions\n",
    "- change optimizer\n",
    "- change batch size\n",
    "- change patch dimensions (from 3 x 3 to 5 x 5)\n",
    "- If you have more time, try running everything on the bigger training set! Do results improve?"
   ]
  },
  {
   "cell_type": "markdown",
   "metadata": {},
   "source": [
    "## 3.6 Visualizations (WIP, maybe)"
   ]
  },
  {
   "cell_type": "code",
   "execution_count": null,
   "metadata": {},
   "outputs": [],
   "source": [
    "index_fill = 1219 # replace by any value between 0 and 9999\n",
    "\n",
    "reshape= np.matrix.reshape(train_images[index_fill],28,28)\n",
    "\n",
    "%matplotlib inline\n",
    "import matplotlib.pyplot as plt\n",
    "plt.imshow(reshape, cmap=plt.cm.binary)\n",
    "plt.show()\n",
    "\n",
    "encoded_train[index_fill]"
   ]
  },
  {
   "cell_type": "code",
   "execution_count": null,
   "metadata": {},
   "outputs": [],
   "source": [
    "from keras import models\n",
    "layer_outputs = [layer.output for layer in conv_final.layers[:8]] \n",
    "activation_model = models.Model(inputs=conv_final.input, outputs=layer_outputs)"
   ]
  },
  {
   "cell_type": "code",
   "execution_count": null,
   "metadata": {},
   "outputs": [],
   "source": [
    "interm_tensor = np.expand_dims(train_images[index_test], axis=0) \n",
    "interm_tensor /= 255"
   ]
  },
  {
   "cell_type": "code",
   "execution_count": null,
   "metadata": {},
   "outputs": [],
   "source": [
    "interm_tensor"
   ]
  },
  {
   "cell_type": "code",
   "execution_count": null,
   "metadata": {},
   "outputs": [],
   "source": [
    "activations = activation_model.predict(interm_tensor)"
   ]
  },
  {
   "cell_type": "code",
   "execution_count": null,
   "metadata": {},
   "outputs": [],
   "source": [
    "first_layer_activation = activations[0]\n",
    "print(first_layer_activation.shape)"
   ]
  },
  {
   "cell_type": "code",
   "execution_count": null,
   "metadata": {},
   "outputs": [],
   "source": [
    "import matplotlib.pyplot as plt\n",
    "plt.matshow(first_layer_activation[0, :, :, 1], cmap='viridis')"
   ]
  },
  {
   "cell_type": "code",
   "execution_count": null,
   "metadata": {},
   "outputs": [],
   "source": [
    "plt.matshow(first_layer_activation[0, :, :, 2], cmap='viridis')"
   ]
  }
 ],
 "metadata": {
  "kernelspec": {
   "display_name": "Python 3",
   "language": "python",
   "name": "python3"
  },
  "language_info": {
   "codemirror_mode": {
    "name": "ipython",
    "version": 3
   },
   "file_extension": ".py",
   "mimetype": "text/x-python",
   "name": "python",
   "nbconvert_exporter": "python",
   "pygments_lexer": "ipython3",
   "version": "3.6.4"
  }
 },
 "nbformat": 4,
 "nbformat_minor": 2
}
